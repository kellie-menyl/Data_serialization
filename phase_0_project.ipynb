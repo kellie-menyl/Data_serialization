{
  "nbformat": 4,
  "nbformat_minor": 0,
  "metadata": {
    "colab": {
      "provenance": []
    },
    "kernelspec": {
      "name": "python3",
      "display_name": "Python 3"
    },
    "language_info": {
      "name": "python"
    }
  },
  "cells": [
    {
      "cell_type": "markdown",
      "source": [
        "#TO-DO-LIST"
      ],
      "metadata": {
        "id": "p2KBRFSneeM4"
      }
    },
    {
      "cell_type": "code",
      "execution_count": null,
      "metadata": {
        "id": "v_A6csp7eGje",
        "colab": {
          "base_uri": "https://localhost:8080/"
        },
        "outputId": "1e45e5ea-8648-4690-e059-c69b0ad3db3f"
      },
      "outputs": [
        {
          "output_type": "stream",
          "name": "stdout",
          "text": [
            "Hello, welcome to your To-Do List\n",
            "List Of Available Actions *user-desires*:\n",
            "1. Add Task\n",
            "2. Mark Task as Completed\n",
            "3. List Tasks\n",
            "4. Remove Task\n",
            "5. Quit\n",
            "Enter your desire :1\n",
            "Enter your task to add :eat\n",
            "task has been added\n",
            "Enter your desire :1\n",
            "Enter your task to add :drink\n",
            "task has been added\n",
            "Enter your desire :1\n",
            "Enter your task to add :sleep\n",
            "task has been added\n",
            "Enter your desire :2\n",
            "Enter the index of the task to mark :1\n",
            "task marked as completed!\n",
            "Enter your desire :2\n",
            "Enter the index of the task to mark :6\n",
            "invalid index\n",
            "Enter your desire :3\n",
            "Your To-Do list;\n",
            "1.eat(completed)\n",
            "2.drink\n",
            "3.sleep\n",
            "Enter your desire :4\n",
            "Enter your task to remove :eat\n",
            "task has not been found\n",
            "Enter your desire :4\n",
            "Enter your task to remove :sleep\n",
            "task has been removed\n",
            "Enter your desire :5\n",
            "Are you sure you want to exit? no\n",
            "Returning to the List_menu\n",
            "Enter your desire :5\n",
            "Are you sure you want to exit? yes\n",
            "Exiting...\n"
          ]
        }
      ],
      "source": [
        "def list_menu():\n",
        "  # displaying a welcome message\n",
        "  print(\"Hello, welcome to your To-Do List\")\n",
        "\n",
        "  # displaying list of availble actions\n",
        "  print(\"List Of Available Actions *user-desires*:\")\n",
        "  print(\"1. Add Task\")\n",
        "  print(\"2. Mark Task as Completed\")\n",
        "  print(\"3. List Tasks\")\n",
        "  print(\"4. Remove Task\")\n",
        "  print(\"5. Quit\")\n",
        "\n",
        "list_menu()\n",
        "# creating an empty list to store tasks\n",
        "tasks = []\n",
        "\n",
        "# defining a function display_tasks to be used in the 3rd available action\n",
        "# the function also prints the task together with their indices\n",
        "def display_tasks():\n",
        "  if tasks:\n",
        "    print('Your To-Do list;')\n",
        "    for i, task in enumerate(tasks, start=1):\n",
        "      print(f\"{i}.{task}\")\n",
        "  else:\n",
        "    print('Your To-Do list is empty')\n",
        "\n",
        "# using the while loop inorder to allow users to manage their to-do list efficiently within the program\n",
        "while True:\n",
        "  user_desire = input(\"Enter your desire :\")\n",
        "\n",
        "# adding task option\n",
        "  if user_desire == '1':\n",
        "    task_to_add = input(\"Enter your task to add :\")\n",
        "    tasks.append(task_to_add) #add task to the list\n",
        "    print(\"task has been added\")\n",
        "\n",
        "# marking task as completed\n",
        "  elif user_desire == '2':\n",
        "    task_to_mark = int(input(\"Enter the index of the task to mark :\")) # user to enter the index of the task they want to mark as completed\n",
        "    if task_to_mark <= len(tasks):\n",
        "      # [task_to_mark - 1] since list indices start from 0 we subtract 1 from the task_to_mark to get the correct index in the list\n",
        "      tasks[task_to_mark - 1] += \"(completed)\" #markings the task as completed by appending \"(completed)\" to the task_to_mark\n",
        "      print(\"task marked as completed!\")\n",
        "    else:\n",
        "      print(\"invalid index\")\n",
        "\n",
        "# display a number of list of tasks\n",
        "  elif user_desire == '3':\n",
        "    display_tasks()\n",
        "\n",
        "# removing task option\n",
        "  elif user_desire == '4':\n",
        "    task_to_remove = input(\"Enter your task to remove :\")\n",
        "    if task_to_remove in tasks:\n",
        "      tasks.remove(task_to_remove) # removing task from the list\n",
        "      print(\"task has been removed\")\n",
        "    else:\n",
        "      print(\"task has not been found\")\n",
        "\n",
        "# option to quit\n",
        "  elif user_desire == '5':\n",
        "    approve = input(\"Are you sure you want to exit? \")\n",
        "    if approve.lower() == 'yes':\n",
        "      print(\"Exiting...\") # exiting the loop\n",
        "      break\n",
        "    else:\n",
        "      print(\"Returning to the List_menu\") # returning back to the loop\n",
        "      continue\n",
        "\n"
      ]
    },
    {
      "cell_type": "code",
      "source": [
        "\"\"\"\n",
        "In this program we are creating a to-do list\n",
        "we first created an empty list called (tasks) to store tasks\n",
        "This list contains a list of available actions(user_desire) which incude;\n",
        "1. add task\n",
        "this allows the user to add tasks to the empty list created\n",
        "2. mark task as completed\n",
        "this allows the user to append completed to the task that she completes\n",
        "3. list tasks\n",
        "this allows the user to see the updated list of tasks and it also shows whether the task is completed or not\n",
        "4. remove task\n",
        "this allows the user the unwanted task\n",
        "5. quit\n",
        "This allows the user to exit the loop\n",
        "\n",
        "\"\"\""
      ],
      "metadata": {
        "colab": {
          "base_uri": "https://localhost:8080/",
          "height": 88
        },
        "id": "3_-0h-b7jNCR",
        "outputId": "c35dc64d-bb6e-4fe2-a489-3082ee30d2e2"
      },
      "execution_count": null,
      "outputs": [
        {
          "output_type": "execute_result",
          "data": {
            "text/plain": [
              "'\\nIn this program we are creating a to-do list\\nwe first created an empty list called (tasks) to store tasks\\nThis list contains a list of available actions(user_desire) which incude;\\n1. add task\\nthis allows the user to add tasks to the empty list created\\n2. mark task as completed\\nthis allows the user to append completed to the task that she completes\\n3. list tasks\\nthis allows the user to see the updated list of tasks and it also shows whether the task is completed or not\\n4. remove task\\nthis allows the user the unwanted task\\n5. quit\\nThis allows the user to exit the loop\\n\\n'"
            ],
            "application/vnd.google.colaboratory.intrinsic+json": {
              "type": "string"
            }
          },
          "metadata": {},
          "execution_count": 3
        }
      ]
    },
    {
      "cell_type": "code",
      "source": [],
      "metadata": {
        "id": "OpWsvWhcWOr_"
      },
      "execution_count": null,
      "outputs": []
    }
  ]
}